{
 "cells": [
  {
   "cell_type": "markdown",
   "id": "9dae0551",
   "metadata": {},
   "source": [
    "### Calculating Beta of Stocks"
   ]
  },
  {
   "cell_type": "code",
   "execution_count": 14,
   "id": "e216b08d",
   "metadata": {},
   "outputs": [],
   "source": [
    "import numpy as np\n",
    "import pandas as pd\n",
    "import nsepy as nse\n",
    "import matplotlib.pyplot as plt"
   ]
  },
  {
   "cell_type": "code",
   "execution_count": 15,
   "id": "bfb0317c",
   "metadata": {},
   "outputs": [],
   "source": [
    "from nsepy import get_history\n",
    "from datetime import date"
   ]
  },
  {
   "cell_type": "code",
   "execution_count": 17,
   "id": "3d140d3e",
   "metadata": {},
   "outputs": [],
   "source": [
    "tickers = ['INFY', 'NIFTYBEES']\n",
    "sec_data = pd.DataFrame(columns=tickers)\n",
    "for t in tickers:\n",
    "    sec_data[t] = nse.get_history(t, index = False, start = date(2018, 1, 1), end = date(2023, 3, 23))['Close']"
   ]
  },
  {
   "cell_type": "code",
   "execution_count": 4,
   "id": "546ec403",
   "metadata": {},
   "outputs": [
    {
     "data": {
      "text/html": [
       "<div>\n",
       "<style scoped>\n",
       "    .dataframe tbody tr th:only-of-type {\n",
       "        vertical-align: middle;\n",
       "    }\n",
       "\n",
       "    .dataframe tbody tr th {\n",
       "        vertical-align: top;\n",
       "    }\n",
       "\n",
       "    .dataframe thead th {\n",
       "        text-align: right;\n",
       "    }\n",
       "</style>\n",
       "<table border=\"1\" class=\"dataframe\">\n",
       "  <thead>\n",
       "    <tr style=\"text-align: right;\">\n",
       "      <th></th>\n",
       "      <th>INFY</th>\n",
       "      <th>NIFTYBEES</th>\n",
       "    </tr>\n",
       "    <tr>\n",
       "      <th>Date</th>\n",
       "      <th></th>\n",
       "      <th></th>\n",
       "    </tr>\n",
       "  </thead>\n",
       "  <tbody>\n",
       "    <tr>\n",
       "      <th>2018-01-01</th>\n",
       "      <td>1033.55</td>\n",
       "      <td>1078.14</td>\n",
       "    </tr>\n",
       "    <tr>\n",
       "      <th>2018-01-02</th>\n",
       "      <td>1029.70</td>\n",
       "      <td>1074.61</td>\n",
       "    </tr>\n",
       "    <tr>\n",
       "      <th>2018-01-03</th>\n",
       "      <td>1021.30</td>\n",
       "      <td>1076.29</td>\n",
       "    </tr>\n",
       "    <tr>\n",
       "      <th>2018-01-04</th>\n",
       "      <td>1015.40</td>\n",
       "      <td>1081.76</td>\n",
       "    </tr>\n",
       "    <tr>\n",
       "      <th>2018-01-05</th>\n",
       "      <td>1012.00</td>\n",
       "      <td>1087.20</td>\n",
       "    </tr>\n",
       "    <tr>\n",
       "      <th>...</th>\n",
       "      <td>...</td>\n",
       "      <td>...</td>\n",
       "    </tr>\n",
       "    <tr>\n",
       "      <th>2023-03-17</th>\n",
       "      <td>1420.70</td>\n",
       "      <td>187.42</td>\n",
       "    </tr>\n",
       "    <tr>\n",
       "      <th>2023-03-20</th>\n",
       "      <td>1403.65</td>\n",
       "      <td>186.20</td>\n",
       "    </tr>\n",
       "    <tr>\n",
       "      <th>2023-03-21</th>\n",
       "      <td>1390.70</td>\n",
       "      <td>187.46</td>\n",
       "    </tr>\n",
       "    <tr>\n",
       "      <th>2023-03-22</th>\n",
       "      <td>1389.25</td>\n",
       "      <td>187.88</td>\n",
       "    </tr>\n",
       "    <tr>\n",
       "      <th>2023-03-23</th>\n",
       "      <td>1374.55</td>\n",
       "      <td>186.91</td>\n",
       "    </tr>\n",
       "  </tbody>\n",
       "</table>\n",
       "<p>1296 rows × 2 columns</p>\n",
       "</div>"
      ],
      "text/plain": [
       "               INFY  NIFTYBEES\n",
       "Date                          \n",
       "2018-01-01  1033.55    1078.14\n",
       "2018-01-02  1029.70    1074.61\n",
       "2018-01-03  1021.30    1076.29\n",
       "2018-01-04  1015.40    1081.76\n",
       "2018-01-05  1012.00    1087.20\n",
       "...             ...        ...\n",
       "2023-03-17  1420.70     187.42\n",
       "2023-03-20  1403.65     186.20\n",
       "2023-03-21  1390.70     187.46\n",
       "2023-03-22  1389.25     187.88\n",
       "2023-03-23  1374.55     186.91\n",
       "\n",
       "[1296 rows x 2 columns]"
      ]
     },
     "execution_count": 4,
     "metadata": {},
     "output_type": "execute_result"
    }
   ],
   "source": [
    "sec_data"
   ]
  },
  {
   "cell_type": "code",
   "execution_count": 5,
   "id": "70d7b064",
   "metadata": {
    "scrolled": true
   },
   "outputs": [
    {
     "data": {
      "text/html": [
       "<div>\n",
       "<style scoped>\n",
       "    .dataframe tbody tr th:only-of-type {\n",
       "        vertical-align: middle;\n",
       "    }\n",
       "\n",
       "    .dataframe tbody tr th {\n",
       "        vertical-align: top;\n",
       "    }\n",
       "\n",
       "    .dataframe thead th {\n",
       "        text-align: right;\n",
       "    }\n",
       "</style>\n",
       "<table border=\"1\" class=\"dataframe\">\n",
       "  <thead>\n",
       "    <tr style=\"text-align: right;\">\n",
       "      <th></th>\n",
       "      <th>INFY</th>\n",
       "      <th>NIFTYBEES</th>\n",
       "    </tr>\n",
       "    <tr>\n",
       "      <th>Date</th>\n",
       "      <th></th>\n",
       "      <th></th>\n",
       "    </tr>\n",
       "  </thead>\n",
       "  <tbody>\n",
       "    <tr>\n",
       "      <th>2018-01-01</th>\n",
       "      <td>NaN</td>\n",
       "      <td>NaN</td>\n",
       "    </tr>\n",
       "    <tr>\n",
       "      <th>2018-01-02</th>\n",
       "      <td>-0.003732</td>\n",
       "      <td>-0.003280</td>\n",
       "    </tr>\n",
       "    <tr>\n",
       "      <th>2018-01-03</th>\n",
       "      <td>-0.008191</td>\n",
       "      <td>0.001562</td>\n",
       "    </tr>\n",
       "    <tr>\n",
       "      <th>2018-01-04</th>\n",
       "      <td>-0.005794</td>\n",
       "      <td>0.005069</td>\n",
       "    </tr>\n",
       "    <tr>\n",
       "      <th>2018-01-05</th>\n",
       "      <td>-0.003354</td>\n",
       "      <td>0.005016</td>\n",
       "    </tr>\n",
       "    <tr>\n",
       "      <th>...</th>\n",
       "      <td>...</td>\n",
       "      <td>...</td>\n",
       "    </tr>\n",
       "    <tr>\n",
       "      <th>2023-03-17</th>\n",
       "      <td>0.011753</td>\n",
       "      <td>0.006370</td>\n",
       "    </tr>\n",
       "    <tr>\n",
       "      <th>2023-03-20</th>\n",
       "      <td>-0.012074</td>\n",
       "      <td>-0.006531</td>\n",
       "    </tr>\n",
       "    <tr>\n",
       "      <th>2023-03-21</th>\n",
       "      <td>-0.009269</td>\n",
       "      <td>0.006744</td>\n",
       "    </tr>\n",
       "    <tr>\n",
       "      <th>2023-03-22</th>\n",
       "      <td>-0.001043</td>\n",
       "      <td>0.002238</td>\n",
       "    </tr>\n",
       "    <tr>\n",
       "      <th>2023-03-23</th>\n",
       "      <td>-0.010638</td>\n",
       "      <td>-0.005176</td>\n",
       "    </tr>\n",
       "  </tbody>\n",
       "</table>\n",
       "<p>1296 rows × 2 columns</p>\n",
       "</div>"
      ],
      "text/plain": [
       "                INFY  NIFTYBEES\n",
       "Date                           \n",
       "2018-01-01       NaN        NaN\n",
       "2018-01-02 -0.003732  -0.003280\n",
       "2018-01-03 -0.008191   0.001562\n",
       "2018-01-04 -0.005794   0.005069\n",
       "2018-01-05 -0.003354   0.005016\n",
       "...              ...        ...\n",
       "2023-03-17  0.011753   0.006370\n",
       "2023-03-20 -0.012074  -0.006531\n",
       "2023-03-21 -0.009269   0.006744\n",
       "2023-03-22 -0.001043   0.002238\n",
       "2023-03-23 -0.010638  -0.005176\n",
       "\n",
       "[1296 rows x 2 columns]"
      ]
     },
     "execution_count": 5,
     "metadata": {},
     "output_type": "execute_result"
    }
   ],
   "source": [
    "sec_returns = np.log(sec_data/sec_data.shift(1))\n",
    "sec_returns"
   ]
  },
  {
   "cell_type": "code",
   "execution_count": 6,
   "id": "7a37434d",
   "metadata": {},
   "outputs": [
    {
     "data": {
      "text/html": [
       "<div>\n",
       "<style scoped>\n",
       "    .dataframe tbody tr th:only-of-type {\n",
       "        vertical-align: middle;\n",
       "    }\n",
       "\n",
       "    .dataframe tbody tr th {\n",
       "        vertical-align: top;\n",
       "    }\n",
       "\n",
       "    .dataframe thead th {\n",
       "        text-align: right;\n",
       "    }\n",
       "</style>\n",
       "<table border=\"1\" class=\"dataframe\">\n",
       "  <thead>\n",
       "    <tr style=\"text-align: right;\">\n",
       "      <th></th>\n",
       "      <th>INFY</th>\n",
       "      <th>NIFTYBEES</th>\n",
       "    </tr>\n",
       "  </thead>\n",
       "  <tbody>\n",
       "    <tr>\n",
       "      <th>INFY</th>\n",
       "      <td>0.167295</td>\n",
       "      <td>0.026538</td>\n",
       "    </tr>\n",
       "    <tr>\n",
       "      <th>NIFTYBEES</th>\n",
       "      <td>0.026538</td>\n",
       "      <td>1.046979</td>\n",
       "    </tr>\n",
       "  </tbody>\n",
       "</table>\n",
       "</div>"
      ],
      "text/plain": [
       "               INFY  NIFTYBEES\n",
       "INFY       0.167295   0.026538\n",
       "NIFTYBEES  0.026538   1.046979"
      ]
     },
     "execution_count": 6,
     "metadata": {},
     "output_type": "execute_result"
    }
   ],
   "source": [
    "cov = sec_returns.cov()*250\n",
    "cov"
   ]
  },
  {
   "cell_type": "code",
   "execution_count": 7,
   "id": "377b3a4a",
   "metadata": {},
   "outputs": [
    {
     "data": {
      "text/plain": [
       "0.026538117944360767"
      ]
     },
     "execution_count": 7,
     "metadata": {},
     "output_type": "execute_result"
    }
   ],
   "source": [
    "cov_with_market = cov.iloc[0,1]\n",
    "cov_with_market"
   ]
  },
  {
   "cell_type": "code",
   "execution_count": 8,
   "id": "c342f061",
   "metadata": {},
   "outputs": [
    {
     "data": {
      "text/plain": [
       "1.0469789478313876"
      ]
     },
     "execution_count": 8,
     "metadata": {},
     "output_type": "execute_result"
    }
   ],
   "source": [
    "market_var = sec_returns['NIFTYBEES'].var()*250\n",
    "market_var"
   ]
  },
  {
   "cell_type": "markdown",
   "id": "9697dfea",
   "metadata": {},
   "source": [
    "### Beta"
   ]
  },
  {
   "cell_type": "markdown",
   "id": "cd06e328",
   "metadata": {},
   "source": [
    "### $$ \n",
    "\\beta_{pg} = \\frac{\\sigma_{pg,m}}{\\sigma_{m}^2}\n",
    "$$"
   ]
  },
  {
   "cell_type": "code",
   "execution_count": 9,
   "id": "b63d08a7",
   "metadata": {},
   "outputs": [
    {
     "data": {
      "text/plain": [
       "0.025347327182967047"
      ]
     },
     "execution_count": 9,
     "metadata": {},
     "output_type": "execute_result"
    }
   ],
   "source": [
    "INFY_beta = cov_with_market/market_var\n",
    "INFY_beta"
   ]
  },
  {
   "cell_type": "markdown",
   "id": "0af09ea0",
   "metadata": {},
   "source": [
    "### Calculating Expected Return of INFY (CAPM)"
   ]
  },
  {
   "cell_type": "code",
   "execution_count": 18,
   "id": "fca89e56",
   "metadata": {
    "scrolled": true
   },
   "outputs": [
    {
     "data": {
      "text/plain": [
       "0.062281259446467035"
      ]
     },
     "execution_count": 18,
     "metadata": {},
     "output_type": "execute_result"
    }
   ],
   "source": [
    "INFY_ER = 0.06 + INFY_beta * 0.09\n",
    "INFY_ER"
   ]
  },
  {
   "cell_type": "markdown",
   "id": "05d387fe",
   "metadata": {},
   "source": [
    "### Sharpe Ratio"
   ]
  },
  {
   "cell_type": "code",
   "execution_count": 19,
   "id": "3569140a",
   "metadata": {},
   "outputs": [],
   "source": [
    "Sharpe = (INFY_ER - 0.025)/(sec_returns['INFY'].std()*250**0.5)"
   ]
  },
  {
   "cell_type": "code",
   "execution_count": 20,
   "id": "48ab8c8f",
   "metadata": {},
   "outputs": [
    {
     "data": {
      "text/plain": [
       "0.09114843718518807"
      ]
     },
     "execution_count": 20,
     "metadata": {},
     "output_type": "execute_result"
    }
   ],
   "source": [
    "Sharpe"
   ]
  },
  {
   "cell_type": "code",
   "execution_count": null,
   "id": "12a83fc4",
   "metadata": {},
   "outputs": [],
   "source": []
  }
 ],
 "metadata": {
  "kernelspec": {
   "display_name": "Python 3 (ipykernel)",
   "language": "python",
   "name": "python3"
  },
  "language_info": {
   "codemirror_mode": {
    "name": "ipython",
    "version": 3
   },
   "file_extension": ".py",
   "mimetype": "text/x-python",
   "name": "python",
   "nbconvert_exporter": "python",
   "pygments_lexer": "ipython3",
   "version": "3.9.13"
  }
 },
 "nbformat": 4,
 "nbformat_minor": 5
}
